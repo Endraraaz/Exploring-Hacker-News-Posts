{
 "cells": [
  {
   "cell_type": "markdown",
   "metadata": {},
   "source": [
    "## Exploring Hacker News Posts\n",
    "\n",
    "This is the exploratory project on Hacker News Posts [data sets provided on Kaggle.](https://www.kaggle.com/hacker-news/hacker-news-posts)This is a personal project to develop skills on exploring data and finding meaningful informations using Python. \n",
    "In this data set we are going to explore on informations related to comments so we will work on data with comments only. \n",
    "\n",
    "##### Opening and Reading Data from the File:"
   ]
  },
  {
   "cell_type": "code",
   "execution_count": 1,
   "metadata": {},
   "outputs": [
    {
     "name": "stdout",
     "output_type": "stream",
     "text": [
      "['id', 'title', 'url', 'num_points', 'num_comments', 'author', 'created_at']\n",
      "293119\n",
      "[['12579008', 'You have two days to comment if you want stem cells to be classified as your own', 'http://www.regulations.gov/document?D=FDA-2015-D-3719-0018', '1', '0', 'altstar', '9/26/2016 3:26'], ['12579005', 'SQLAR  the SQLite Archiver', 'https://www.sqlite.org/sqlar/doc/trunk/README.md', '1', '0', 'blacksqr', '9/26/2016 3:24'], ['12578997', 'What if we just printed a flatscreen television on the side of our boxes?', 'https://medium.com/vanmoof/our-secrets-out-f21c1f03fdc8#.ietxmez43', '1', '0', 'pavel_lishin', '9/26/2016 3:19'], ['12578989', 'algorithmic music', 'http://cacm.acm.org/magazines/2011/7/109891-algorithmic-composition/fulltext', '1', '0', 'poindontcare', '9/26/2016 3:16'], ['12578979', 'How the Data Vault Enables the Next-Gen Data Warehouse and Data Lake', 'https://www.talend.com/blog/2016/05/12/talend-and-Â\\x93the-data-vaultÂ\\x94', '1', '0', 'markgainor1', '9/26/2016 3:14']]\n"
     ]
    }
   ],
   "source": [
    "from csv import reader\n",
    "open_file=open('HN_posts_year_to_Sep_26_2016.csv',encoding='utf8')\n",
    "read_file=reader(open_file)\n",
    "hacker_news=list(read_file)\n",
    "hacker_news_header=hacker_news[0]\n",
    "hacker_data=hacker_news[1:]\n",
    "print(hacker_news_header)\n",
    "print(len(hacker_data))\n",
    "print(hacker_data[0:5])"
   ]
  },
  {
   "cell_type": "markdown",
   "metadata": {},
   "source": [
    "##### Removing Data with Zero comments"
   ]
  },
  {
   "cell_type": "code",
   "execution_count": 2,
   "metadata": {
    "scrolled": true
   },
   "outputs": [
    {
     "name": "stdout",
     "output_type": "stream",
     "text": [
      "80401\n",
      "[['12578975', 'Saving the Hassle of Shopping', 'https://blog.menswr.com/2016/09/07/whats-new-with-your-style-feed/', '1', '1', 'bdoux', '9/26/2016 3:13'], ['12578908', 'Ask HN: What TLD do you use for local development?', '', '4', '7', 'Sevrene', '9/26/2016 2:53'], ['12578822', 'Amazons Algorithms Dont Find You the Best Deals', 'https://www.technologyreview.com/s/602442/amazons-algorithms-dont-find-you-the-best-deals/', '1', '1', 'yarapavan', '9/26/2016 2:26'], ['12578694', 'Emergency dose of epinephrine that does not cost an arm and a leg', 'http://m.imgur.com/gallery/th6Ua', '2', '1', 'dredmorbius', '9/26/2016 1:54'], ['12578624', 'Phone Makers Could Cut Off Drivers. So Why Dont They?', 'http://www.nytimes.com/2016/09/25/technology/phone-makers-could-cut-off-drivers-so-why-dont-they.html', '4', '1', 'danso', '9/26/2016 1:37']]\n"
     ]
    }
   ],
   "source": [
    "hacker_data_new=[]\n",
    "for row in hacker_data:\n",
    "    comments=int(row[4])\n",
    "    if comments!=0:\n",
    "        hacker_data_new.append(row)\n",
    "print(len(hacker_data_new))\n",
    "print(hacker_data_new[0:5])"
   ]
  },
  {
   "cell_type": "markdown",
   "metadata": {},
   "source": [
    "##### Separating posts into three categories ask_posts, show_posts, and other_posts"
   ]
  },
  {
   "cell_type": "code",
   "execution_count": 3,
   "metadata": {},
   "outputs": [
    {
     "name": "stdout",
     "output_type": "stream",
     "text": [
      "6911\n",
      "5059\n",
      "68431\n"
     ]
    }
   ],
   "source": [
    "ask_posts=[]\n",
    "show_posts=[]\n",
    "other_posts=[]\n",
    "for row in hacker_data_new:\n",
    "    post_title=row[1]\n",
    "    post_title=post_title.lower()\n",
    "    if post_title.startswith('ask hn'):\n",
    "        ask_posts.append(row)\n",
    "    elif post_title.startswith('show hn'):\n",
    "        show_posts.append(row)\n",
    "    else:\n",
    "        other_posts.append(row)\n",
    "print(len(ask_posts))\n",
    "print(len(show_posts))\n",
    "print(len(other_posts))"
   ]
  },
  {
   "cell_type": "markdown",
   "metadata": {},
   "source": [
    "##### Let us calculate average comments on ask_posts and show_posts:"
   ]
  },
  {
   "cell_type": "code",
   "execution_count": 4,
   "metadata": {},
   "outputs": [
    {
     "name": "stdout",
     "output_type": "stream",
     "text": [
      "13.744175951381855\n",
      "9.810832180272781\n"
     ]
    }
   ],
   "source": [
    "total_ask_comments=0\n",
    "for row in ask_posts:\n",
    "    num_comments=int(row[4])\n",
    "    total_ask_comments+=num_comments\n",
    "avg_ask_comments=total_ask_comments/len(ask_posts)\n",
    "print(avg_ask_comments)\n",
    "\n",
    "total_show_comments=0\n",
    "for row in show_posts:\n",
    "    num_comments=int(row[4])\n",
    "    total_show_comments+=num_comments\n",
    "avg_show_comments=total_show_comments/len(show_posts)\n",
    "print(avg_show_comments)"
   ]
  },
  {
   "cell_type": "markdown",
   "metadata": {},
   "source": [
    "From above calculated average, we can determine that ask posts receive more comments on average than the show posts.\n",
    "\n",
    "Since ask posts receive more comments in average so we focus our analysis more on ask posts.\n",
    "We'll now determine if ask posts created at a certain time are more likely to attract comments.\n",
    "\n",
    "##### We'll use the following steps to perform this analysis:\n",
    "- Calculate the amount of ask posts created in each hour of the day, along with the number of comments received.\n",
    "- Calculate the average number of comments ask posts receive by hour created.\n",
    "\n",
    "##### Let us tackle first step:\n",
    "Calculate the amount of ask posts created in each hour of the day, along with the number of comments received."
   ]
  },
  {
   "cell_type": "code",
   "execution_count": 5,
   "metadata": {
    "scrolled": true
   },
   "outputs": [
    {
     "name": "stdout",
     "output_type": "stream",
     "text": [
      "[['9/26/2016 1:17', 3], ['9/25/2016 22:48', 3], ['9/25/2016 21:50', 2], ['9/25/2016 19:30', 1]]\n",
      "{'02': 227, '01': 223, '22': 287, '21': 407, '19': 420, '17': 404, '15': 467, '14': 378, '13': 326, '11': 251, '10': 219, '09': 176, '07': 157, '03': 212, '16': 415, '08': 190, '00': 231, '23': 276, '20': 392, '18': 452, '12': 274, '04': 186, '06': 176, '05': 165}\n",
      "{'02': 2996, '01': 2089, '22': 3372, '21': 4500, '19': 3954, '17': 5547, '15': 18525, '14': 4972, '13': 7245, '11': 2797, '10': 3013, '09': 1477, '07': 1585, '03': 2154, '16': 4466, '08': 2362, '00': 2277, '23': 2297, '20': 4462, '18': 4877, '12': 4234, '04': 2360, '06': 1587, '05': 1838}\n"
     ]
    }
   ],
   "source": [
    "import datetime as dt\n",
    "result_list=[]\n",
    "for row in ask_posts:\n",
    "    created_at=row[6]\n",
    "    num_comments=int(row[4])\n",
    "    result_list.append([created_at,num_comments])\n",
    "print(result_list[1:5])\n",
    "counts_by_hour={}\n",
    "comments_by_hour={}\n",
    "for each in result_list:\n",
    "    hours=each[0]\n",
    "    dformat=\"%m/%d/%Y %H:%M\"\n",
    "    hours=dt.datetime.strptime(hours,dformat)\n",
    "    hours=dt.datetime.strftime(hours,\"%H\")\n",
    "    if hours in counts_by_hour:\n",
    "        counts_by_hour[hours]+=1\n",
    "        comments_by_hour[hours]+=each[1]\n",
    "    else:\n",
    "        counts_by_hour[hours]=1\n",
    "        comments_by_hour[hours]=each[1]\n",
    "print(counts_by_hour)\n",
    "print(comments_by_hour)"
   ]
  },
  {
   "cell_type": "markdown",
   "metadata": {},
   "source": [
    "##### Second Step: \n",
    "Calculate average number of comments per posts for posts created during each hour"
   ]
  },
  {
   "cell_type": "code",
   "execution_count": 6,
   "metadata": {},
   "outputs": [
    {
     "name": "stdout",
     "output_type": "stream",
     "text": [
      "[['02', 13.198237885462555], ['01', 9.367713004484305], ['22', 11.749128919860627], ['21', 11.056511056511056], ['19', 9.414285714285715], ['17', 13.73019801980198], ['15', 39.66809421841542], ['14', 13.153439153439153], ['13', 22.2239263803681], ['11', 11.143426294820717], ['10', 13.757990867579908], ['09', 8.392045454545455], ['07', 10.095541401273886], ['03', 10.160377358490566], ['16', 10.76144578313253], ['08', 12.43157894736842], ['00', 9.857142857142858], ['23', 8.322463768115941], ['20', 11.38265306122449], ['18', 10.789823008849558], ['12', 15.452554744525548], ['04', 12.688172043010752], ['06', 9.017045454545455], ['05', 11.139393939393939]]\n"
     ]
    }
   ],
   "source": [
    "avg_by_hour=[]\n",
    "for each in counts_by_hour:\n",
    "    avg_by_hour.append([each,comments_by_hour[each]/counts_by_hour[each]])\n",
    "print(avg_by_hour)"
   ]
  },
  {
   "cell_type": "markdown",
   "metadata": {},
   "source": [
    "###### Displaying Output in more formatted way:"
   ]
  },
  {
   "cell_type": "code",
   "execution_count": 7,
   "metadata": {},
   "outputs": [
    {
     "name": "stdout",
     "output_type": "stream",
     "text": [
      "[[13.198237885462555, '02'], [9.367713004484305, '01'], [11.749128919860627, '22'], [11.056511056511056, '21'], [9.414285714285715, '19'], [13.73019801980198, '17'], [39.66809421841542, '15'], [13.153439153439153, '14'], [22.2239263803681, '13'], [11.143426294820717, '11'], [13.757990867579908, '10'], [8.392045454545455, '09'], [10.095541401273886, '07'], [10.160377358490566, '03'], [10.76144578313253, '16'], [12.43157894736842, '08'], [9.857142857142858, '00'], [8.322463768115941, '23'], [11.38265306122449, '20'], [10.789823008849558, '18'], [15.452554744525548, '12'], [12.688172043010752, '04'], [9.017045454545455, '06'], [11.139393939393939, '05']]\n",
      "\n",
      "\n"
     ]
    }
   ],
   "source": [
    "swap_avg_by_hour=[]\n",
    "for each in avg_by_hour:\n",
    "    swap_avg_by_hour.append([each[1],each[0]])\n",
    "print(swap_avg_by_hour)\n",
    "print('\\n')"
   ]
  },
  {
   "cell_type": "markdown",
   "metadata": {},
   "source": [
    "##### Final Analysis on which hours to create a post to have a higher chance of receiving comments:"
   ]
  },
  {
   "cell_type": "code",
   "execution_count": 8,
   "metadata": {},
   "outputs": [
    {
     "name": "stdout",
     "output_type": "stream",
     "text": [
      "15:00 39.67\n",
      "13:00 22.22\n",
      "12:00 15.45\n",
      "10:00 13.76\n",
      "17:00 13.73\n",
      "02:00 13.2\n",
      "14:00 13.15\n",
      "04:00 12.69\n",
      "08:00 12.43\n",
      "22:00 11.75\n",
      "20:00 11.38\n",
      "11:00 11.14\n",
      "05:00 11.14\n",
      "21:00 11.06\n",
      "18:00 10.79\n",
      "16:00 10.76\n",
      "03:00 10.16\n",
      "07:00 10.1\n",
      "00:00 9.86\n",
      "19:00 9.41\n",
      "01:00 9.37\n",
      "06:00 9.02\n",
      "09:00 8.39\n",
      "23:00 8.32\n"
     ]
    }
   ],
   "source": [
    "sorted_swap=sorted(swap_avg_by_hour,reverse=True)\n",
    "for each in sorted_swap:\n",
    "    avg_com=each[0]\n",
    "    avg_com=float(\"{0:.2f}\".format(avg_com))\n",
    "    hours=each[1]\n",
    "    hours=dt.datetime.strptime(hours,\"%H\")\n",
    "    hours=dt.datetime.strftime(hours,\"%H:%M\")\n",
    "    print(hours,avg_com)"
   ]
  },
  {
   "cell_type": "markdown",
   "metadata": {},
   "source": [
    "### Conclusion\n",
    "So from the above analysis we see that the top five best time to ask questions in Hacker News to get them answered are \"15:00\",\"13:00\",\"12:00\",\"10:00\", and \"17:00\" hours."
   ]
  }
 ],
 "metadata": {
  "kernelspec": {
   "display_name": "Python 3",
   "language": "python",
   "name": "python3"
  },
  "language_info": {
   "codemirror_mode": {
    "name": "ipython",
    "version": 3
   },
   "file_extension": ".py",
   "mimetype": "text/x-python",
   "name": "python",
   "nbconvert_exporter": "python",
   "pygments_lexer": "ipython3",
   "version": "3.6.5"
  }
 },
 "nbformat": 4,
 "nbformat_minor": 2
}
